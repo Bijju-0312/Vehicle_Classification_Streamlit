{
 "cells": [
  {
   "cell_type": "code",
   "execution_count": 1,
   "id": "b0e11273",
   "metadata": {},
   "outputs": [],
   "source": [
    "# !pip install streamlit"
   ]
  },
  {
   "cell_type": "code",
   "execution_count": 2,
   "id": "93c11c90",
   "metadata": {},
   "outputs": [],
   "source": [
    "import streamlit as st\n",
    "from tensorflow.keras.preprocessing import image\n",
    "import numpy as np\n",
    "import tensorflow.keras.models as load_model\n",
    "\n",
    "# Load your pre-trained model\n",
    "model = load_model.load_model(\"C:/Users/bhara/OneDrive/Desktop/Python_Materials/Neural Network/Assignment 2/transfer_learning_vehicle_classification_model.keras\")  # Replace with the actual path\n",
    "\n",
    "st.title(\"Vehicle Detection App\")\n",
    "\n",
    "uploaded_image = st.file_uploader(\"Upload an image...\", type=[\"jpg\", \"png\", \"jpeg\"])\n",
    "\n",
    "if uploaded_image is not None:\n",
    "    # Image preprocessing\n",
    "    img = image.load_img(uploaded_image, target_size=(64, 64))  # Adjust the target size according to your model\n",
    "    img = image.img_to_array(img)\n",
    "    img = np.expand_dims(img, axis=0)\n",
    "    img = img / 255.0  # Normalize the image\n",
    "\n",
    "    # Model prediction\n",
    "    prediction = model.predict(img)\n",
    "\n",
    "    # Display the uploaded image\n",
    "    st.image(uploaded_image, caption='Uploaded Image', use_column_width=True)\n",
    "\n",
    "    # Display the prediction result\n",
    "    st.write(\"Predicted Probabilities:\")\n",
    "    st.write(f\"Probability of Non-Vehicle: **{prediction[0][0]:.4f}**\")\n",
    "    st.write(f\"Probability of Vehicle: **{prediction[0][1]:.4f}**\")\n",
    "    \n",
    "    # Classify based on the threshold\n",
    "    if prediction[0][0] > 0.5:\n",
    "        st.write(\"Prediction: Non-Vehicle\")\n",
    "    else:\n",
    "        st.write(\"Prediction: Vehicle\")\n"
   ]
  }
 ],
 "metadata": {
  "kernelspec": {
   "display_name": "Python 3 (ipykernel)",
   "language": "python",
   "name": "python3"
  },
  "language_info": {
   "codemirror_mode": {
    "name": "ipython",
    "version": 3
   },
   "file_extension": ".py",
   "mimetype": "text/x-python",
   "name": "python",
   "nbconvert_exporter": "python",
   "pygments_lexer": "ipython3",
   "version": "3.9.13"
  }
 },
 "nbformat": 4,
 "nbformat_minor": 5
}
